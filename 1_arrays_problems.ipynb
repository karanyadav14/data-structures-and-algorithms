{
 "cells": [
  {
   "cell_type": "markdown",
   "metadata": {},
   "source": [
    "#### 1. Best Time to Buy and Sell Stock II\n",
    "   - https://leetcode.com/explore/interview/card/top-interview-questions-easy/92/array/564/"
   ]
  },
  {
   "cell_type": "code",
   "execution_count": 7,
   "metadata": {},
   "outputs": [],
   "source": [
    "# Approach 1: Brute Force\n",
    "def maxProfit(prices) -> int:\n",
    "    profit = 0\n",
    "    max_price = max(prices)\n",
    "    for i in range(len(prices)):\n",
    "        if prices[i]==max_price:\n",
    "            i = i + 1\n",
    "        diff = []\n",
    "        for j in range(i+1, len(prices)):\n",
    "            \n",
    "            if (prices[j] - prices[i])>0:\n",
    "                diff.append(prices[j] - prices[i])\n",
    "            else:\n",
    "                break\n",
    "            print(i, j, prices[i], prices[j], diff)\n",
    "        profit += max(diff)\n",
    "        diff = []\n",
    "    return profit"
   ]
  },
  {
   "cell_type": "code",
   "execution_count": 16,
   "metadata": {},
   "outputs": [],
   "source": [
    "# Approach 2: Optimized approach\n",
    "def maxProfit(prices) -> int:\n",
    "    profit = 0\n",
    "    for i in range(len(prices)-1):\n",
    "       sum_ = prices[i+1]-prices[i]\n",
    "       if sum_>0:\n",
    "           profit += sum_\n",
    "    return profit"
   ]
  },
  {
   "cell_type": "code",
   "execution_count": 17,
   "metadata": {},
   "outputs": [
    {
     "data": {
      "text/plain": [
       "4"
      ]
     },
     "execution_count": 17,
     "metadata": {},
     "output_type": "execute_result"
    }
   ],
   "source": [
    "prices = [7,1,5,3,6,4]\n",
    "prices = [1,2,3,4,5]\n",
    "maxProfit(prices)"
   ]
  },
  {
   "cell_type": "markdown",
   "metadata": {},
   "source": [
    "#### 2. Rotate Array\n",
    "- https://leetcode.com/explore/interview/card/top-interview-questions-easy/92/array/646/\n",
    "- Given an integer array nums, rotate the array to the right by k steps, where k is non-negative."
   ]
  },
  {
   "cell_type": "markdown",
   "metadata": {},
   "source": [
    "Example 1:\n",
    "\n",
    "\n",
    "- Input: nums = [1,2,3,4,5,6,7], k = 3\n",
    "- Output: [5,6,7,1,2,3,4]\n",
    "- Explanation:\n",
    "- rotate 1 steps to the right: [7,1,2,3,4,5,6]\n",
    "- rotate 2 steps to the right: [6,7,1,2,3,4,5]\n",
    "- rotate 3 steps to the right: [5,6,7,1,2,3,4]"
   ]
  },
  {
   "cell_type": "code",
   "execution_count": 55,
   "metadata": {},
   "outputs": [],
   "source": [
    "# Approach 1\n",
    "def rotate(nums:list, k: int):\n",
    "    nums[:] =   nums[-k:] + nums[:-k]\n",
    "    print(nums)"
   ]
  },
  {
   "cell_type": "code",
   "execution_count": 56,
   "metadata": {},
   "outputs": [
    {
     "name": "stdout",
     "output_type": "stream",
     "text": [
      "[5, 6, 7, 1, 2, 3, 4]\n"
     ]
    }
   ],
   "source": [
    "k = 3\n",
    "nums = [1,2,3,4,5,6,7]\n",
    "# k = 2\n",
    "# nums = [-1,-100,3,99]\n",
    "rotate(nums, k)"
   ]
  },
  {
   "cell_type": "code",
   "execution_count": 57,
   "metadata": {},
   "outputs": [],
   "source": [
    "## Approach 2\n",
    "def rotate(nums:list, k:int):\n",
    "    while k >0:\n",
    "        a = nums[-1]\n",
    "        nums.pop(-1)\n",
    "        nums.insert(0, a)\n",
    "        k -=1\n",
    "    return nums"
   ]
  },
  {
   "cell_type": "code",
   "execution_count": 54,
   "metadata": {},
   "outputs": [
    {
     "data": {
      "text/plain": [
       "[3, 99, -1, -100]"
      ]
     },
     "execution_count": 54,
     "metadata": {},
     "output_type": "execute_result"
    }
   ],
   "source": [
    "k = 3\n",
    "nums = [1,2,3,4,5,6,7]\n",
    "k = 2\n",
    "nums = [-1,-100,3,99]\n",
    "rotate(nums, k)"
   ]
  },
  {
   "cell_type": "markdown",
   "metadata": {},
   "source": [
    "#### 3. Contains Duplicate\n",
    "\n",
    "- https://leetcode.com/explore/interview/card/top-interview-questions-easy/92/array/578/\n",
    "- Given an integer array nums, return true if any value appears at least twice in the array, and return false if every element is distinct."
   ]
  },
  {
   "cell_type": "markdown",
   "metadata": {},
   "source": [
    "- Example 1:\n",
    "\n",
    "- Input: nums = [1,2,3,1]\n",
    "- Output: true\n",
    "- Explanation:\n",
    "- The element 1 occurs at the indices 0 and 3."
   ]
  },
  {
   "cell_type": "code",
   "execution_count": 69,
   "metadata": {},
   "outputs": [],
   "source": [
    "# Approach 1\n",
    "def containsDuplicate(nums:list):\n",
    "    dict_ = {}\n",
    "    for i in nums:\n",
    "        if i not in dict_.keys():\n",
    "            dict_[i] = 0\n",
    "        dict_[i] += 1\n",
    "    print(dict_)\n",
    "    if max(dict_.values())>=2:\n",
    "        return True\n",
    "    return False"
   ]
  },
  {
   "cell_type": "code",
   "execution_count": 71,
   "metadata": {},
   "outputs": [
    {
     "name": "stdout",
     "output_type": "stream",
     "text": [
      "{1: 1, 2: 1, 3: 1, 4: 1}\n"
     ]
    },
    {
     "data": {
      "text/plain": [
       "False"
      ]
     },
     "execution_count": 71,
     "metadata": {},
     "output_type": "execute_result"
    }
   ],
   "source": [
    "nums = [1,1,1,3,3,4,3,2,4,2]\n",
    "nums = [1,2,3,4]\n",
    "containsDuplicate(nums)"
   ]
  }
 ],
 "metadata": {
  "kernelspec": {
   "display_name": "pyt-tf",
   "language": "python",
   "name": "pyt-tf"
  },
  "language_info": {
   "codemirror_mode": {
    "name": "ipython",
    "version": 3
   },
   "file_extension": ".py",
   "mimetype": "text/x-python",
   "name": "python",
   "nbconvert_exporter": "python",
   "pygments_lexer": "ipython3",
   "version": "3.12.7"
  }
 },
 "nbformat": 4,
 "nbformat_minor": 2
}

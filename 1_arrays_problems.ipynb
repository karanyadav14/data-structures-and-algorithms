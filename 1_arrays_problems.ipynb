{
 "cells": [
  {
   "cell_type": "markdown",
   "metadata": {},
   "source": [
    "1. Best Time to Buy and Sell Stock II\n",
    "   - https://leetcode.com/explore/interview/card/top-interview-questions-easy/92/array/564/"
   ]
  },
  {
   "cell_type": "code",
   "execution_count": 26,
   "metadata": {},
   "outputs": [],
   "source": [
    "def maxProfit(prices) -> int:\n",
    "    profit = 0\n",
    "    max_price = max(prices)\n",
    "    for i in range(len(prices)):\n",
    "        if prices[i]==max_price:\n",
    "            i = i + 1\n",
    "        diff = 0\n",
    "        for j in range(i+1, len(prices)):\n",
    "            print(i, j, prices[i], prices[j], diff)\n",
    "            if (prices[j] - prices[i])>0:\n",
    "                diff += (prices[j] - prices[i])\n",
    "            else:\n",
    "                break\n",
    "        \n",
    "        profit += diff\n",
    "    return profit"
   ]
  },
  {
   "cell_type": "code",
   "execution_count": 25,
   "metadata": {},
   "outputs": [
    {
     "name": "stdout",
     "output_type": "stream",
     "text": [
      "1 2 1 5 0\n",
      "1 3 1 3 4\n",
      "1 4 1 6 6\n",
      "1 5 1 4 11\n"
     ]
    },
    {
     "data": {
      "text/plain": [
       "14"
      ]
     },
     "execution_count": 27,
     "metadata": {},
     "output_type": "execute_result"
    }
   ],
   "source": [
    "prices = [7,1,5,3,6,4]\n",
    "maxProfit(prices)"
   ]
  },
  {
   "cell_type": "code",
   "execution_count": null,
   "metadata": {},
   "outputs": [],
   "source": []
  }
 ],
 "metadata": {
  "kernelspec": {
   "display_name": "pyt-tf",
   "language": "python",
   "name": "pyt-tf"
  },
  "language_info": {
   "codemirror_mode": {
    "name": "ipython",
    "version": 3
   },
   "file_extension": ".py",
   "mimetype": "text/x-python",
   "name": "python",
   "nbconvert_exporter": "python",
   "pygments_lexer": "ipython3",
   "version": "3.12.7"
  }
 },
 "nbformat": 4,
 "nbformat_minor": 2
}

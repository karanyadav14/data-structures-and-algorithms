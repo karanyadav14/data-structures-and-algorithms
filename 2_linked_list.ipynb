{
 "cells": [
  {
   "cell_type": "markdown",
   "metadata": {},
   "source": [
    "## Linked List"
   ]
  },
  {
   "cell_type": "markdown",
   "metadata": {},
   "source": [
    "- Linked list is a linear data structure where each node is a separate object. \n",
    "- Each node contains:\n",
    "  - Data: Value stored in the node.\n",
    "  - Pointer: Link to the next node in the sequence\n",
    "- Length of linked list: no of nodes\n",
    "- Operations:\n",
    "  - Insert\n",
    "    - head\n",
    "    - trail (append)\n",
    "    - middle (insert)\n",
    "  - Traverse\n",
    "    - print\n",
    "  - Delete\n",
    "    - head\n",
    "    - tail (pop)\n",
    "    - value (remove)\n",
    "    - index\n",
    "  - Search\n",
    "    - value\n",
    "    - index"
   ]
  },
  {
   "cell_type": "markdown",
   "metadata": {},
   "source": [
    "### Manual Implementation of Linked List - Python"
   ]
  },
  {
   "cell_type": "code",
   "execution_count": 1,
   "metadata": {},
   "outputs": [],
   "source": [
    "class Node:\n",
    "\n",
    "    def __init__(self, value):\n",
    "        self.data = value \n",
    "        self.next = None"
   ]
  },
  {
   "cell_type": "code",
   "execution_count": 10,
   "metadata": {},
   "outputs": [
    {
     "name": "stdout",
     "output_type": "stream",
     "text": [
      "<__main__.Node object at 0x104925010>\n"
     ]
    }
   ],
   "source": [
    "a = Node(1)\n",
    "print(a) # prints object with hexadecimal memory address"
   ]
  },
  {
   "cell_type": "code",
   "execution_count": 4,
   "metadata": {},
   "outputs": [
    {
     "data": {
      "text/plain": [
       "(1, None)"
      ]
     },
     "execution_count": 4,
     "metadata": {},
     "output_type": "execute_result"
    }
   ],
   "source": [
    "a.data, a.next"
   ]
  },
  {
   "cell_type": "code",
   "execution_count": 5,
   "metadata": {},
   "outputs": [],
   "source": [
    "# Create three nodes\n",
    "a = Node(1)\n",
    "b = Node(2)\n",
    "c = Node(3)"
   ]
  },
  {
   "cell_type": "code",
   "execution_count": 9,
   "metadata": {},
   "outputs": [
    {
     "name": "stdout",
     "output_type": "stream",
     "text": [
      "Node a with hexadecimal memory address:  <__main__.Node object at 0x104965010>\n",
      "Int memory address of node a:  4371927056\n",
      "Int to hexadecimal address:  0x104965010\n"
     ]
    }
   ],
   "source": [
    "print(\"Node a with hexadecimal memory address: \", a)\n",
    "print(\"Int memory address of node a: \", id(a))\n",
    "print(\"Int to hexadecimal address: \", hex(id(a)))"
   ]
  },
  {
   "cell_type": "code",
   "execution_count": 11,
   "metadata": {},
   "outputs": [],
   "source": [
    "# Create linked list of nodes a, b, c\n",
    "a.next = b\n",
    "b.next = c"
   ]
  },
  {
   "cell_type": "code",
   "execution_count": null,
   "metadata": {},
   "outputs": [],
   "source": [
    "class Node:\n",
    "\n",
    "    def __init__(self, value):\n",
    "        self.data = value \n",
    "        self.next = None"
   ]
  },
  {
   "cell_type": "code",
   "execution_count": 12,
   "metadata": {},
   "outputs": [],
   "source": [
    "class LinkedList:\n",
    "\n",
    "    def __init__(self):\n",
    "        self.head = None # Condition of empty LL\n",
    "        self.n = 0  # No of nodes in LL\n",
    "\n",
    "    def __len__(self):\n",
    "        return self.n\n"
   ]
  },
  {
   "cell_type": "markdown",
   "metadata": {},
   "source": [
    "### Len of Linked List"
   ]
  },
  {
   "cell_type": "code",
   "execution_count": 13,
   "metadata": {},
   "outputs": [
    {
     "data": {
      "text/plain": [
       "0"
      ]
     },
     "execution_count": 13,
     "metadata": {},
     "output_type": "execute_result"
    }
   ],
   "source": [
    "L = LinkedList()\n",
    "len(L)"
   ]
  },
  {
   "cell_type": "markdown",
   "metadata": {},
   "source": [
    "### Insert\n"
   ]
  },
  {
   "cell_type": "markdown",
   "metadata": {},
   "source": [
    "#### From Head"
   ]
  },
  {
   "cell_type": "code",
   "execution_count": 81,
   "metadata": {},
   "outputs": [],
   "source": [
    "class LinkedList:\n",
    "\n",
    "    def __init__(self):\n",
    "        self.head = None # Condition of empty LL\n",
    "        self.n = 0  # No of nodes in LL\n",
    "\n",
    "    def __len__(self):\n",
    "        return self.n\n",
    "    \n",
    "    def insert_head(self, value):\n",
    "\n",
    "        new_node = Node(value)\n",
    "        new_node.next = self.head\n",
    "\n",
    "        self.head = new_node\n",
    "        self.n += 1\n",
    "\n",
    "    def __str__(self):\n",
    "        curr = self.head\n",
    "\n",
    "        result = ''\n",
    "        while curr!=None:\n",
    "            result = result + str(curr.data) + '->'\n",
    "            curr = curr.next \n",
    "\n",
    "        return result[:-2]\n",
    "\n",
    "    def insert_tail(self, value):\n",
    "\n",
    "        new_node = Node(value)\n",
    "        if self.head == None:\n",
    "            self.head = new_node\n",
    "            self.n += 1\n",
    "            return\n",
    "\n",
    "        curr = self.head\n",
    "        while curr.next != None:\n",
    "            curr = curr.next\n",
    "\n",
    "        curr.next = new_node\n",
    "        self.n += 1\n",
    "\n",
    "\n",
    "    def insert_after(self, after, value):\n",
    "\n",
    "        new_node = Node(value)\n",
    "\n",
    "        curr = self.head\n",
    "\n",
    "        while curr != None:\n",
    "            if curr.data == after:\n",
    "                break\n",
    "            curr = curr.next\n",
    "\n",
    "        # break \n",
    "        if curr!=None:\n",
    "            new_node.next = curr.next\n",
    "            curr.next = new_node\n",
    "        # complete loop -> no item after\n",
    "        else:\n",
    "            return f\"Item {after} not found in given linked list\"\n"
   ]
  },
  {
   "cell_type": "code",
   "execution_count": 82,
   "metadata": {},
   "outputs": [],
   "source": [
    "L  = LinkedList()\n",
    "L.insert_head(1)\n",
    "L.insert_head(2)\n",
    "L.insert_head(3)"
   ]
  },
  {
   "cell_type": "code",
   "execution_count": 83,
   "metadata": {},
   "outputs": [
    {
     "data": {
      "text/plain": [
       "3"
      ]
     },
     "execution_count": 83,
     "metadata": {},
     "output_type": "execute_result"
    }
   ],
   "source": [
    "len(L)"
   ]
  },
  {
   "cell_type": "code",
   "execution_count": 84,
   "metadata": {},
   "outputs": [
    {
     "name": "stdout",
     "output_type": "stream",
     "text": [
      "3->2->1\n"
     ]
    }
   ],
   "source": [
    "print(L)"
   ]
  },
  {
   "cell_type": "code",
   "execution_count": 85,
   "metadata": {},
   "outputs": [
    {
     "name": "stdout",
     "output_type": "stream",
     "text": [
      "10->3->2->1->4\n"
     ]
    }
   ],
   "source": [
    "L.insert_tail(4)\n",
    "L.insert_head(10)\n",
    "print(L)"
   ]
  },
  {
   "cell_type": "code",
   "execution_count": 86,
   "metadata": {},
   "outputs": [
    {
     "name": "stdout",
     "output_type": "stream",
     "text": [
      "5\n"
     ]
    }
   ],
   "source": [
    "L_empty = LinkedList()\n",
    "L_empty.insert_tail(5)\n",
    "\n",
    "print(L_empty)"
   ]
  },
  {
   "cell_type": "code",
   "execution_count": 88,
   "metadata": {},
   "outputs": [
    {
     "name": "stdout",
     "output_type": "stream",
     "text": [
      "Initial LL:  10->3->2->1->4\n",
      "LL after inserting:  10->3->30->2->1->4\n",
      "Item 100 not found in given linked list\n"
     ]
    }
   ],
   "source": [
    "L  = LinkedList()\n",
    "L.insert_head(1)\n",
    "L.insert_head(2)\n",
    "L.insert_head(3)\n",
    "L.insert_tail(4)\n",
    "L.insert_head(10)\n",
    "print(\"Initial LL: \", L)\n",
    "\n",
    "L.insert_after(3, 30)\n",
    "print(\"LL after inserting: \", L)\n",
    "\n",
    "# If element is not in linked list\n",
    "print(L.insert_after(100, 50))"
   ]
  },
  {
   "cell_type": "code",
   "execution_count": null,
   "metadata": {},
   "outputs": [],
   "source": []
  },
  {
   "cell_type": "code",
   "execution_count": null,
   "metadata": {},
   "outputs": [],
   "source": []
  }
 ],
 "metadata": {
  "kernelspec": {
   "display_name": "pyt-tf",
   "language": "python",
   "name": "pyt-tf"
  },
  "language_info": {
   "codemirror_mode": {
    "name": "ipython",
    "version": 3
   },
   "file_extension": ".py",
   "mimetype": "text/x-python",
   "name": "python",
   "nbconvert_exporter": "python",
   "pygments_lexer": "ipython3",
   "version": "3.12.7"
  }
 },
 "nbformat": 4,
 "nbformat_minor": 2
}
